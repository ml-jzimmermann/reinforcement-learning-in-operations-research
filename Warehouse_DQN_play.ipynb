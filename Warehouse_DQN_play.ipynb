{
 "cells": [
  {
   "cell_type": "code",
   "execution_count": 7,
   "metadata": {},
   "outputs": [],
   "source": [
    "from src.model import DQN, BigDQN\n",
    "from src.agent import QAgent\n",
    "from src.warehouse.environment.warehouse_v1 import Warehouse\n",
    "from src.warehouse.environment.target_position import TargetPosition\n",
    "\n",
    "import gym\n",
    "import torch"
   ]
  },
  {
   "cell_type": "code",
   "execution_count": 12,
   "metadata": {},
   "outputs": [],
   "source": [
    "target = TargetPosition.LEFT\n",
    "num_aisles = 1\n",
    "rack_height = 3\n",
    "num_packets = 6\n",
    "warehouse = Warehouse(num_aisles=num_aisles, rack_height=rack_height,\n",
    "                      target_pos=target, num_packets=num_packets, seed=42)"
   ]
  },
  {
   "cell_type": "code",
   "execution_count": 13,
   "metadata": {},
   "outputs": [],
   "source": [
    "checkpoint = torch.load('./models/pytorch_warehouse_big_packets_tu_23.08_12.33_100003.pt')"
   ]
  },
  {
   "cell_type": "code",
   "execution_count": 14,
   "metadata": {},
   "outputs": [],
   "source": [
    "agent = QAgent(env=warehouse, model=BigDQN, config=checkpoint['config'])\n",
    "agent.compile()"
   ]
  },
  {
   "cell_type": "code",
   "execution_count": 15,
   "metadata": {},
   "outputs": [],
   "source": [
    "agent.load_checkpoint(checkpoint)"
   ]
  },
  {
   "cell_type": "code",
   "execution_count": 16,
   "metadata": {},
   "outputs": [
    {
     "name": "stdout",
     "output_type": "stream",
     "text": [
      "______________\n",
      "|  __    __  |\n",
      "| | P|  |P | |\n",
      "| |  |  |P | |\n",
      "|A|PP|  |P_| |\n",
      "|____________|\n",
      "|D|\n",
      "Iter: 75 - Action: 0(up) - Reward -1\n",
      "max steps reached without solution\n"
     ]
    }
   ],
   "source": [
    "for _ in range(5):\n",
    "    agent.play(verbose=True, sleep=0.1, max_steps=75)"
   ]
  },
  {
   "cell_type": "code",
   "execution_count": null,
   "metadata": {},
   "outputs": [],
   "source": []
  }
 ],
 "metadata": {
  "kernelspec": {
   "display_name": "Python 3",
   "language": "python",
   "name": "python3"
  },
  "language_info": {
   "codemirror_mode": {
    "name": "ipython",
    "version": 3
   },
   "file_extension": ".py",
   "mimetype": "text/x-python",
   "name": "python",
   "nbconvert_exporter": "python",
   "pygments_lexer": "ipython3",
   "version": "3.6.9"
  }
 },
 "nbformat": 4,
 "nbformat_minor": 4
}
