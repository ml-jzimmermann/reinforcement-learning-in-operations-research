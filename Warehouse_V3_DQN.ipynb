{
 "cells": [
  {
   "cell_type": "code",
   "execution_count": 1,
   "metadata": {},
   "outputs": [],
   "source": [
    "import torch\n",
    "\n",
    "from src.warehouse.environment.warehouse_v3 import WarehouseV3\n",
    "from src.policy import ExponentialEpsilonGreedyPolicy\n",
    "import numpy as np\n",
    "import time\n",
    "\n",
    "from src.model import BigDQN, DQN, BiggerDQN\n",
    "from src.agent import QAgent\n",
    "\n",
    "import gym\n",
    "import torch.nn.functional as F\n",
    "import torch.optim as optimizer"
   ]
  },
  {
   "cell_type": "code",
   "execution_count": 2,
   "metadata": {},
   "outputs": [],
   "source": [
    "hyperparameters = {\n",
    "    # training\n",
    "    'batch_size': 128,\n",
    "    'learning_rate': 0.01,\n",
    "    'scheduler_milestones': [20000, 40000],\n",
    "    'scheduler_decay': 0.1,\n",
    "    'optimizer': optimizer.Adam,\n",
    "    'loss': F.smooth_l1_loss,\n",
    "    # reinforcement & environment\n",
    "    'eps_policy': ExponentialEpsilonGreedyPolicy(eps_max=1.0, eps_min=0.02, decay=2000),\n",
    "    'gamma': 0.9,\n",
    "    'target_update': 10,\n",
    "    'num_episodes': 50001,\n",
    "    'memory_capacity': 50000,\n",
    "    'warmup_episodes': 100,\n",
    "    'save_freq': 5000,\n",
    "    'max_steps_per_episode': 125,\n",
    "    'num_aisles': 4,  # 2,  # 4\n",
    "    'rack_height': 8,  # 5,  # 8\n",
    "    'num_packets': 5,  # 3,  # 5\n",
    "    # pytorch\n",
    "    'np_seed': 4242,\n",
    "    'device': 'cuda',\n",
    "    'save_model': True,\n",
    "    'dtype': torch.float32,\n",
    "    'ylim': (-150, 150),\n",
    "    'plot_progress': False,\n",
    "    'tag': 'warehouse_v3_big_dqn_bigger'\n",
    "}"
   ]
  },
  {
   "cell_type": "code",
   "execution_count": 3,
   "metadata": {},
   "outputs": [],
   "source": [
    "warehouse = WarehouseV3(num_aisles=hyperparameters['num_aisles'], rack_height=hyperparameters['rack_height'],\n",
    "                        num_packets=hyperparameters['num_packets'], seed=hyperparameters['np_seed'])"
   ]
  },
  {
   "cell_type": "code",
   "execution_count": null,
   "metadata": {},
   "outputs": [
    {
     "data": {
      "application/vnd.jupyter.widget-view+json": {
       "model_id": "2fc09ec1f9d14de7b22897e63317fdc0",
       "version_major": 2,
       "version_minor": 0
      },
      "text/plain": [
       "  0%|          | 0/50001 [00:00<?, ?it/s]"
      ]
     },
     "metadata": {},
     "output_type": "display_data"
    }
   ],
   "source": [
    "agent = QAgent(env=warehouse, model=BiggerDQN, config=hyperparameters)\n",
    "agent.compile()\n",
    "agent.fit()"
   ]
  },
  {
   "cell_type": "code",
   "execution_count": null,
   "metadata": {},
   "outputs": [],
   "source": [
    "agent.plot_durations()"
   ]
  },
  {
   "cell_type": "code",
   "execution_count": null,
   "metadata": {},
   "outputs": [],
   "source": []
  }
 ],
 "metadata": {
  "kernelspec": {
   "display_name": "Python 3",
   "language": "python",
   "name": "python3"
  },
  "language_info": {
   "codemirror_mode": {
    "name": "ipython",
    "version": 3
   },
   "file_extension": ".py",
   "mimetype": "text/x-python",
   "name": "python",
   "nbconvert_exporter": "python",
   "pygments_lexer": "ipython3",
   "version": "3.6.9"
  }
 },
 "nbformat": 4,
 "nbformat_minor": 4
}
